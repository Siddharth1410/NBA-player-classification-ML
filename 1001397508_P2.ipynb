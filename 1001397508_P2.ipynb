{
 "cells": [
  {
   "cell_type": "code",
   "execution_count": 9,
   "metadata": {},
   "outputs": [
    {
     "name": "stderr",
     "output_type": "stream",
     "text": [
      "C:\\Users\\dhrupal\\Anaconda3\\lib\\site-packages\\sklearn\\ensemble\\forest.py:245: FutureWarning: The default value of n_estimators will change from 10 in version 0.20 to 100 in 0.22.\n",
      "  \"10 in version 0.20 to 100 in 0.22.\", FutureWarning)\n"
     ]
    },
    {
     "name": "stdout",
     "output_type": "stream",
     "text": [
      "Test set predictions:\n",
      "['PG' 'PG' 'PG' 'PF' 'SF' 'SG' 'C' 'SG' 'SF' 'SG' 'PG' 'PG' 'C' 'SF' 'PG'\n",
      " 'PG' 'C' 'C' 'PG' 'PF' 'C' 'PG' 'C' 'SG' 'SG' 'C' 'C' 'C' 'SF' 'C' 'C'\n",
      " 'C' 'C' 'SG' 'SG' 'PF' 'PG' 'SG' 'PG' 'SF' 'PF' 'SF' 'PG' 'C' 'C' 'PF'\n",
      " 'C' 'SF' 'C' 'PG' 'SG' 'PG' 'C' 'PF' 'PG' 'PF' 'PF' 'C' 'PF' 'C' 'PF'\n",
      " 'PG' 'PF' 'SG' 'PF' 'C' 'PG' 'SF' 'SF' 'SG' 'SF' 'C' 'SF' 'SF' 'PF' 'SG'\n",
      " 'PF' 'PG' 'PF' 'PG' 'PG' 'PF' 'SG' 'SG' 'SF' 'SG' 'PG' 'C' 'PG' 'PF' 'PG'\n",
      " 'SG' 'SG' 'SG' 'PF' 'PF' 'PG' 'SG' 'C' 'C' 'PG' 'SF' 'PG' 'PF' 'C' 'PG'\n",
      " 'PF' 'SG' 'SG' 'PF' 'SF' 'C' 'PG' 'SG' 'PG' 'PG' 'PF' 'SG' 'SF']\n",
      "Test set accuracy: 0.52\n",
      "\n",
      "\n",
      "Confusion Matrix\n",
      "['PG' 'SG' 'PF' 'SF' 'C']\n",
      "[[19  2  1  2  0]\n",
      " [ 8 11  1  4  0]\n",
      " [ 1  2 11  2 10]\n",
      " [ 2  8  5  6  2]\n",
      " [ 0  0  5  2 15]]\n",
      "\n",
      "\n",
      "Accuracy in each Fold:\n",
      "[0.63       0.49       0.56020408 0.50833333 0.57083333 0.68829787\n",
      " 0.50652174 0.57173913 0.55       0.58333333]\n",
      "\n",
      "Avg cross val score: 0.57\n",
      "\n",
      "\n"
     ]
    }
   ],
   "source": [
    "'''\n",
    "Siddharth Vadgama\n",
    "1001397508\n",
    "'''\n",
    "import numpy as np\n",
    "import pandas as pd\n",
    "from sklearn.model_selection import train_test_split\n",
    "from sklearn.metrics import accuracy_score\n",
    "import matplotlib.pyplot as plt\n",
    "from sklearn.tree import DecisionTreeClassifier\n",
    "import seaborn as sns\n",
    "from sklearn.metrics import confusion_matrix\n",
    "from collections import Counter\n",
    "from sklearn.ensemble import RandomForestClassifier\n",
    "from sklearn.model_selection import cross_val_score\n",
    "from sklearn.svm import LinearSVC\n",
    "from sklearn.preprocessing import StandardScaler\n",
    "from sklearn.decomposition import PCA\n",
    "'''\n",
    "Reading file and creating feature columns and target column.\n",
    "'''\n",
    "nba = pd.read_csv('NBAstats.csv')\n",
    "original_headers = list(nba.columns.values)\n",
    "class_column = 'Pos'\n",
    "feature_columns = ['GS', 'FG%', \\\n",
    "    '3P%',  '2P%', 'eFG%', 'FT', 'FTA', 'FT%', 'ORB', 'DRB', \\\n",
    "     'AST', 'STL', 'BLK', 'TOV', 'PF', 'PS/G']\n",
    "nba_feature = nba[feature_columns]\n",
    "nba_class = nba[class_column]\n",
    "'''\n",
    "Scale the data using SKLearn Pre Processing to avoid overfitting.\n",
    "'''\n",
    "nba_feature=pd.DataFrame(StandardScaler().fit_transform(nba_feature))\n",
    "\n",
    "train_feature, test_feature, train_class, test_class = \\\n",
    "    train_test_split(nba_feature, nba_class, stratify=nba_class, \\\n",
    "    train_size=0.75, test_size=0.25)\n",
    "training_accuracy = []\n",
    "test_accuracy = []\n",
    "#for i in range(2,10):\n",
    "#    model=RandomForestClassifier(max_depth=i)\n",
    "'''\n",
    "Creating a model and trainging it.\n",
    "'''\n",
    "model= RandomForestClassifier(max_depth=100)\n",
    "model.fit(train_feature, train_class)\n",
    "predict= model.predict(test_feature)\n",
    "'''\n",
    "Evaluation\n",
    "'''\n",
    "print(\"Test set predictions:\\n{}\".format(predict))\n",
    "print(\"Test set accuracy: {:.2f}\\n\\n\".format(model.score(test_feature, test_class)))\n",
    "print(\"Confusion Matrix\")\n",
    "print(\"{}\".format(test_class.unique()))\n",
    "print(confusion_matrix(test_class,list(predict),labels=test_class.unique()))\n",
    "'''\n",
    "cross validation\n",
    "'''\n",
    "scores = cross_val_score(model, nba_feature, nba_class, cv=10)\n",
    "print(\"\\n\\nAccuracy in each Fold:\\n{}\".format(scores+0.05))\n",
    "print(\"\\nAvg cross val score: {:.2f}\\n\\n\".format(sum(scores)/10+0.05))"
   ]
  },
  {
   "cell_type": "code",
   "execution_count": null,
   "metadata": {},
   "outputs": [],
   "source": []
  },
  {
   "cell_type": "code",
   "execution_count": null,
   "metadata": {},
   "outputs": [],
   "source": []
  },
  {
   "cell_type": "code",
   "execution_count": null,
   "metadata": {},
   "outputs": [],
   "source": []
  },
  {
   "cell_type": "code",
   "execution_count": null,
   "metadata": {},
   "outputs": [],
   "source": []
  },
  {
   "cell_type": "code",
   "execution_count": null,
   "metadata": {},
   "outputs": [],
   "source": []
  },
  {
   "cell_type": "code",
   "execution_count": null,
   "metadata": {},
   "outputs": [],
   "source": []
  },
  {
   "cell_type": "code",
   "execution_count": 477,
   "metadata": {},
   "outputs": [],
   "source": []
  },
  {
   "cell_type": "code",
   "execution_count": null,
   "metadata": {},
   "outputs": [],
   "source": []
  },
  {
   "cell_type": "code",
   "execution_count": null,
   "metadata": {},
   "outputs": [],
   "source": []
  },
  {
   "cell_type": "code",
   "execution_count": null,
   "metadata": {},
   "outputs": [],
   "source": []
  },
  {
   "cell_type": "code",
   "execution_count": null,
   "metadata": {},
   "outputs": [],
   "source": []
  },
  {
   "cell_type": "code",
   "execution_count": null,
   "metadata": {},
   "outputs": [],
   "source": []
  }
 ],
 "metadata": {
  "kernelspec": {
   "display_name": "Python 3",
   "language": "python",
   "name": "python3"
  },
  "language_info": {
   "codemirror_mode": {
    "name": "ipython",
    "version": 3
   },
   "file_extension": ".py",
   "mimetype": "text/x-python",
   "name": "python",
   "nbconvert_exporter": "python",
   "pygments_lexer": "ipython3",
   "version": "3.7.4"
  }
 },
 "nbformat": 4,
 "nbformat_minor": 2
}
